{
 "cells": [
  {
   "cell_type": "markdown",
   "id": "824b983f-cdf4-4b0d-bf8e-6031b1a5731e",
   "metadata": {},
   "source": [
    "# Data Science Tools and Ecosystem"
   ]
  },
  {
   "cell_type": "markdown",
   "id": "42f9efe5-70a5-42ed-bf5a-c940326b4810",
   "metadata": {},
   "source": [
    "## Author\n",
    "Teodoro Nicolas S. Dulay II"
   ]
  },
  {
   "cell_type": "markdown",
   "id": "12fcb304-561d-4c27-92ef-237350ee6b7e",
   "metadata": {},
   "source": [
    "In this notebook, Data Science Tools and Ecosystem are summarized."
   ]
  },
  {
   "cell_type": "markdown",
   "id": "55ccaeb0-caa9-43f4-b6d0-d077d77704f7",
   "metadata": {},
   "source": [
    "**Objectives**\n",
    "- use markdown to show various text formats\n",
    "- list popular languages for Data Science\n",
    "- list commonly used libraries for Data Science\n",
    "- list open source Data Science tools\n",
    "- perform arithmetic operations using Python code"
   ]
  },
  {
   "cell_type": "markdown",
   "id": "d1797b31-4cc7-4479-9ecc-3168dd10281c",
   "metadata": {},
   "source": [
    "Some of the popular langauges that Data Scientists use are:\n",
    "1. Python\n",
    "2. R\n",
    "3. SQL\n",
    "4. Julia"
   ]
  },
  {
   "cell_type": "markdown",
   "id": "76061ba5-862e-4908-b226-381b81311bf5",
   "metadata": {},
   "source": [
    "Some of the commonly used libraries used by Data Scientists include:\n",
    "1. pandas\n",
    "2. numpy\n",
    "3. matplotlib\n",
    "4. seaborn"
   ]
  },
  {
   "cell_type": "markdown",
   "id": "a2d5f63e-2f4a-4822-8370-017ce552cfc5",
   "metadata": {},
   "source": [
    "| Data Science Tools |\n",
    "| ---- |\n",
    "| Jupyter Notebooks |\n",
    "| Jupyter Lab |\n",
    "| Spyder |\n",
    "| RStudio |"
   ]
  },
  {
   "cell_type": "markdown",
   "id": "b5047b37-285d-48e8-bfe7-2017d8f0de22",
   "metadata": {},
   "source": [
    "### Below are a few examples of evaluating arithmetic expressions in python:"
   ]
  },
  {
   "cell_type": "code",
   "execution_count": 15,
   "id": "06c39f6b-8400-41ea-a356-0b3ca29ffcb9",
   "metadata": {},
   "outputs": [
    {
     "data": {
      "text/plain": [
       "17"
      ]
     },
     "execution_count": 15,
     "metadata": {},
     "output_type": "execute_result"
    }
   ],
   "source": [
    "# This is a simple arithmetic expression to multiply then add integers.\n",
    "(3*4)+5"
   ]
  },
  {
   "cell_type": "code",
   "execution_count": 25,
   "id": "3f4483fd-e5b0-44ec-b015-9c725b55ddb6",
   "metadata": {},
   "outputs": [
    {
     "name": "stdout",
     "output_type": "stream",
     "text": [
      "3.3333333333333335 hours\n"
     ]
    }
   ],
   "source": [
    "# This will convert 200 minutes to hours by dividing 200 by 60.\n",
    "x = 200/60\n",
    "print(x,\"hours\")"
   ]
  }
 ],
 "metadata": {
  "kernelspec": {
   "display_name": "Python [conda env:Py3128_R361]",
   "language": "python",
   "name": "conda-env-Py3128_R361-py"
  },
  "language_info": {
   "codemirror_mode": {
    "name": "ipython",
    "version": 3
   },
   "file_extension": ".py",
   "mimetype": "text/x-python",
   "name": "python",
   "nbconvert_exporter": "python",
   "pygments_lexer": "ipython3",
   "version": "3.12.8"
  }
 },
 "nbformat": 4,
 "nbformat_minor": 5
}
